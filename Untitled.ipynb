{
 "cells": [
  {
   "cell_type": "code",
   "execution_count": 29,
   "id": "7ec92f9b",
   "metadata": {},
   "outputs": [],
   "source": [
    "import gzip\n",
    "import json\n",
    "import re\n",
    "import os\n",
    "import sys\n",
    "import pandas as pd"
   ]
  },
  {
   "cell_type": "code",
   "execution_count": 30,
   "id": "5c664432",
   "metadata": {},
   "outputs": [],
   "source": [
    "# Give the directory of the files\n",
    "DIR = 'C:/Users/gunon/Documents/bootcamp-main/3-projects/ML_Book_Valuations/'"
   ]
  },
  {
   "cell_type": "code",
   "execution_count": 31,
   "id": "e7fe49bb",
   "metadata": {},
   "outputs": [],
   "source": [
    "# Function to load the gz file and transform into JSON file \n",
    "def load_data(file_name, head = 200):\n",
    "    count = 0\n",
    "    data = []\n",
    "    with gzip.open(file_name) as fin:\n",
    "        for l in fin:\n",
    "            d = json.loads(l)\n",
    "            count += 1\n",
    "            data.append(d)\n",
    "            \n",
    "            # break if reaches the 100th line\n",
    "            #if (head is not None) and (count > head):\n",
    "             #   break\n",
    "    return data"
   ]
  },
  {
   "cell_type": "code",
   "execution_count": null,
   "id": "2765c16d",
   "metadata": {},
   "outputs": [],
   "source": [
    "books = load_data(os.path.join(DIR, 'goodreads_books.json.gz'))\n",
    "authors = load_data(os.path.join(DIR, 'goodreads_book_authors.json.gz'))"
   ]
  },
  {
   "cell_type": "code",
   "execution_count": null,
   "id": "76cd1c86",
   "metadata": {},
   "outputs": [],
   "source": [
    "# Transform the nested JSON data structure books into a dataframe called df_Authors\n",
    "df_Authors = pd.json_normalize(authors)"
   ]
  },
  {
   "cell_type": "code",
   "execution_count": null,
   "id": "c8ee2bdd",
   "metadata": {},
   "outputs": [],
   "source": [
    "df_Authors"
   ]
  },
  {
   "cell_type": "code",
   "execution_count": null,
   "id": "9004505e",
   "metadata": {},
   "outputs": [],
   "source": [
    "# Transform the nested JSON data structure books into a dataframe called df_BooksList\n",
    "df_BooksList = pd.json_normalize(books)"
   ]
  },
  {
   "cell_type": "code",
   "execution_count": null,
   "id": "d3d26d91",
   "metadata": {},
   "outputs": [],
   "source": [
    "df_BooksList"
   ]
  }
 ],
 "metadata": {
  "kernelspec": {
   "display_name": "Python 3 (ipykernel)",
   "language": "python",
   "name": "python3"
  },
  "language_info": {
   "codemirror_mode": {
    "name": "ipython",
    "version": 3
   },
   "file_extension": ".py",
   "mimetype": "text/x-python",
   "name": "python",
   "nbconvert_exporter": "python",
   "pygments_lexer": "ipython3",
   "version": "3.11.3"
  }
 },
 "nbformat": 4,
 "nbformat_minor": 5
}
