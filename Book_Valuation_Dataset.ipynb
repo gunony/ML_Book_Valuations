{
 "cells": [
  {
   "cell_type": "code",
   "execution_count": 1,
   "metadata": {},
   "outputs": [],
   "source": [
    "import numpy as np\n",
    "import pandas as pd\n",
    "import matplotlib as mlp\n",
    "import matplotlib.pyplot as plt\n",
    "import seaborn as sns\n",
    "import gzip\n",
    "import json\n",
    "import os\n",
    "import requests\n",
    "from io import BytesIO  # Import BytesIO from the io module"
   ]
  },
  {
   "cell_type": "code",
   "execution_count": 2,
   "metadata": {},
   "outputs": [],
   "source": [
    "# Define the http adress where the files are recorded.\n",
    "git_path = 'https://github.com/gunony/ML_Book_Valuations/raw/main/datasets/'"
   ]
  },
  {
   "cell_type": "markdown",
   "metadata": {},
   "source": [
    "## PART 1 - CONSTITUTION OF THE DATASET BEFORE ANALYSIS AND MACHINE LEARNING\n",
    "As explained in the readme file, the aim of the project is to predict the rating that would be given to a book based on a certain amount of input data. This first part consists of preparing the data and creating the dataset to be used for the ML algorithm, which constitutes the second part of the project."
   ]
  },
  {
   "cell_type": "markdown",
   "metadata": {},
   "source": [
    "### STEP 1 - LOAD THE FILE\n",
    "As first dataset called 'books.csv' is a curation of Goodreads books. "
   ]
  },
  {
   "cell_type": "code",
   "execution_count": 3,
   "metadata": {},
   "outputs": [],
   "source": [
    "# Download the initial dataset of Books list\n",
    "url = git_path+'books.csv'\n",
    "df_Books = pd.read_csv(url,sep=\",\")"
   ]
  },
  {
   "cell_type": "code",
   "execution_count": 4,
   "metadata": {},
   "outputs": [
    {
     "name": "stdout",
     "output_type": "stream",
     "text": [
      "<class 'pandas.core.frame.DataFrame'>\n",
      "RangeIndex: 14485 entries, 0 to 14484\n",
      "Data columns (total 12 columns):\n",
      " #   Column              Non-Null Count  Dtype  \n",
      "---  ------              --------------  -----  \n",
      " 0   bookID              14485 non-null  int64  \n",
      " 1   title               14485 non-null  object \n",
      " 2   authors             14485 non-null  object \n",
      " 3   average_rating      14485 non-null  float64\n",
      " 4   isbn                14485 non-null  object \n",
      " 5   isbn13              14485 non-null  object \n",
      " 6   language_code       14485 non-null  object \n",
      " 7   num_pages           14485 non-null  int64  \n",
      " 8   ratings_count       14485 non-null  int64  \n",
      " 9   text_reviews_count  14485 non-null  int64  \n",
      " 10  publication_date    14485 non-null  object \n",
      " 11  publisher           14485 non-null  object \n",
      "dtypes: float64(1), int64(4), object(7)\n",
      "memory usage: 1.3+ MB\n"
     ]
    }
   ],
   "source": [
    "df_Books.info()"
   ]
  },
  {
   "cell_type": "markdown",
   "metadata": {},
   "source": [
    "### Step 2 : Adding book's genre in the data frame Books\n",
    "\n",
    "The genre of the book (history, novel, poetry, etc.) is a factor that readers take into account when making their choice. We can assume that a philosophy book will be read less than a Harry Potter book. This popularity should have an impact on the rating given by readers.\n",
    "\n",
    "The genre is not included in the initial file. The objective of this step is to therefore add the genre of each books. Goodreads determines a book's genre by crowd-sourcing user shelves. If a number of users shelve a book as \"science,\" for example, then that genre is assigned to the book in their algorithm. This isn't a perfect system, as sometimes users might shelve something as \"science\" when it's actually \"science fiction,\" and so on. For more details : https://help.goodreads.com/s/article/How-can-I-set-my-book-s-genres. \n",
    "\n",
    "The genres of book have been grouped into 10 categories with the score given by each reader. These categories and their respective scores will be added to the initial dataset.\n",
    "\n",
    "The data set related to book’s genres comes from the great work made by Mengting Wan and Julian McAuley. \n",
    "• Mengting Wan, Julian McAuley, \"Item Recommendation on Monotonic Behavior Chains\", in RecSys'18. [bibtex] \n",
    "• Mengting Wan, Rishabh Misra, Ndapa Nakashole, Julian McAuley, \"Fine-Grained Spoiler Detection from Large-Scale Review Corpora\", in ACL'19. [bibtex]\n",
    "\n",
    "All files can be found at this adress https://datarepo.eng.ucsd.edu/mcauley_group/gdrive/goodreads/byGenre/"
   ]
  },
  {
   "cell_type": "code",
   "execution_count": 5,
   "metadata": {},
   "outputs": [],
   "source": [
    "# Function to load the gz file and transform into JSON file \n",
    "def load_data(url):\n",
    "    response = requests.get(url)\n",
    "    with gzip.GzipFile(fileobj=BytesIO(response.content), mode='rb') as fin:\n",
    "        data = [json.loads(line.decode('utf-8')) for line in fin]\n",
    "    return data\n",
    "\n",
    "# Assuming the function is defined\n",
    "URL = 'https://datarepo.eng.ucsd.edu/mcauley_group/gdrive/goodreads/'\n",
    "books = load_data(os.path.join(URL, 'goodreads_book_genres_initial.json.gz'))"
   ]
  },
  {
   "cell_type": "code",
   "execution_count": 6,
   "metadata": {},
   "outputs": [],
   "source": [
    "# Transform the nested JSON data structure books into a dataframe called df_Genre\n",
    "df_Genre = pd.json_normalize(books)\n",
    "\n",
    "# Rename the column with book number - will be necessary for the next steps\n",
    "df_Genre.rename(columns={'book_id': 'bookID'}, inplace=True)"
   ]
  },
  {
   "cell_type": "code",
   "execution_count": 7,
   "metadata": {},
   "outputs": [
    {
     "data": {
      "text/html": [
       "<div>\n",
       "<style scoped>\n",
       "    .dataframe tbody tr th:only-of-type {\n",
       "        vertical-align: middle;\n",
       "    }\n",
       "\n",
       "    .dataframe tbody tr th {\n",
       "        vertical-align: top;\n",
       "    }\n",
       "\n",
       "    .dataframe thead th {\n",
       "        text-align: right;\n",
       "    }\n",
       "</style>\n",
       "<table border=\"1\" class=\"dataframe\">\n",
       "  <thead>\n",
       "    <tr style=\"text-align: right;\">\n",
       "      <th></th>\n",
       "      <th>bookID</th>\n",
       "      <th>genres.history, historical fiction, biography</th>\n",
       "      <th>genres.fiction</th>\n",
       "      <th>genres.fantasy, paranormal</th>\n",
       "      <th>genres.mystery, thriller, crime</th>\n",
       "      <th>genres.poetry</th>\n",
       "      <th>genres.romance</th>\n",
       "      <th>genres.non-fiction</th>\n",
       "      <th>genres.children</th>\n",
       "      <th>genres.young-adult</th>\n",
       "      <th>genres.comics, graphic</th>\n",
       "    </tr>\n",
       "  </thead>\n",
       "  <tbody>\n",
       "    <tr>\n",
       "      <th>0</th>\n",
       "      <td>5333265</td>\n",
       "      <td>1.0</td>\n",
       "      <td>NaN</td>\n",
       "      <td>NaN</td>\n",
       "      <td>NaN</td>\n",
       "      <td>NaN</td>\n",
       "      <td>NaN</td>\n",
       "      <td>NaN</td>\n",
       "      <td>NaN</td>\n",
       "      <td>NaN</td>\n",
       "      <td>NaN</td>\n",
       "    </tr>\n",
       "    <tr>\n",
       "      <th>1</th>\n",
       "      <td>1333909</td>\n",
       "      <td>5.0</td>\n",
       "      <td>219.0</td>\n",
       "      <td>NaN</td>\n",
       "      <td>NaN</td>\n",
       "      <td>NaN</td>\n",
       "      <td>NaN</td>\n",
       "      <td>NaN</td>\n",
       "      <td>NaN</td>\n",
       "      <td>NaN</td>\n",
       "      <td>NaN</td>\n",
       "    </tr>\n",
       "    <tr>\n",
       "      <th>2</th>\n",
       "      <td>7327624</td>\n",
       "      <td>NaN</td>\n",
       "      <td>8.0</td>\n",
       "      <td>31.0</td>\n",
       "      <td>1.0</td>\n",
       "      <td>1.0</td>\n",
       "      <td>NaN</td>\n",
       "      <td>NaN</td>\n",
       "      <td>NaN</td>\n",
       "      <td>NaN</td>\n",
       "      <td>NaN</td>\n",
       "    </tr>\n",
       "    <tr>\n",
       "      <th>3</th>\n",
       "      <td>6066819</td>\n",
       "      <td>NaN</td>\n",
       "      <td>555.0</td>\n",
       "      <td>NaN</td>\n",
       "      <td>10.0</td>\n",
       "      <td>NaN</td>\n",
       "      <td>23.0</td>\n",
       "      <td>NaN</td>\n",
       "      <td>NaN</td>\n",
       "      <td>NaN</td>\n",
       "      <td>NaN</td>\n",
       "    </tr>\n",
       "    <tr>\n",
       "      <th>4</th>\n",
       "      <td>287140</td>\n",
       "      <td>NaN</td>\n",
       "      <td>NaN</td>\n",
       "      <td>NaN</td>\n",
       "      <td>NaN</td>\n",
       "      <td>NaN</td>\n",
       "      <td>NaN</td>\n",
       "      <td>3.0</td>\n",
       "      <td>NaN</td>\n",
       "      <td>NaN</td>\n",
       "      <td>NaN</td>\n",
       "    </tr>\n",
       "    <tr>\n",
       "      <th>...</th>\n",
       "      <td>...</td>\n",
       "      <td>...</td>\n",
       "      <td>...</td>\n",
       "      <td>...</td>\n",
       "      <td>...</td>\n",
       "      <td>...</td>\n",
       "      <td>...</td>\n",
       "      <td>...</td>\n",
       "      <td>...</td>\n",
       "      <td>...</td>\n",
       "      <td>...</td>\n",
       "    </tr>\n",
       "    <tr>\n",
       "      <th>2360650</th>\n",
       "      <td>3084038</td>\n",
       "      <td>7.0</td>\n",
       "      <td>NaN</td>\n",
       "      <td>NaN</td>\n",
       "      <td>NaN</td>\n",
       "      <td>NaN</td>\n",
       "      <td>NaN</td>\n",
       "      <td>5.0</td>\n",
       "      <td>NaN</td>\n",
       "      <td>NaN</td>\n",
       "      <td>NaN</td>\n",
       "    </tr>\n",
       "    <tr>\n",
       "      <th>2360651</th>\n",
       "      <td>26168430</td>\n",
       "      <td>NaN</td>\n",
       "      <td>1.0</td>\n",
       "      <td>NaN</td>\n",
       "      <td>4.0</td>\n",
       "      <td>NaN</td>\n",
       "      <td>NaN</td>\n",
       "      <td>NaN</td>\n",
       "      <td>1.0</td>\n",
       "      <td>NaN</td>\n",
       "      <td>NaN</td>\n",
       "    </tr>\n",
       "    <tr>\n",
       "      <th>2360652</th>\n",
       "      <td>2342551</td>\n",
       "      <td>NaN</td>\n",
       "      <td>NaN</td>\n",
       "      <td>NaN</td>\n",
       "      <td>NaN</td>\n",
       "      <td>14.0</td>\n",
       "      <td>NaN</td>\n",
       "      <td>1.0</td>\n",
       "      <td>7.0</td>\n",
       "      <td>1.0</td>\n",
       "      <td>NaN</td>\n",
       "    </tr>\n",
       "    <tr>\n",
       "      <th>2360653</th>\n",
       "      <td>22017381</td>\n",
       "      <td>NaN</td>\n",
       "      <td>NaN</td>\n",
       "      <td>NaN</td>\n",
       "      <td>2.0</td>\n",
       "      <td>NaN</td>\n",
       "      <td>13.0</td>\n",
       "      <td>NaN</td>\n",
       "      <td>NaN</td>\n",
       "      <td>NaN</td>\n",
       "      <td>NaN</td>\n",
       "    </tr>\n",
       "    <tr>\n",
       "      <th>2360654</th>\n",
       "      <td>11419866</td>\n",
       "      <td>NaN</td>\n",
       "      <td>4.0</td>\n",
       "      <td>NaN</td>\n",
       "      <td>NaN</td>\n",
       "      <td>NaN</td>\n",
       "      <td>19.0</td>\n",
       "      <td>NaN</td>\n",
       "      <td>NaN</td>\n",
       "      <td>NaN</td>\n",
       "      <td>NaN</td>\n",
       "    </tr>\n",
       "  </tbody>\n",
       "</table>\n",
       "<p>2360655 rows × 11 columns</p>\n",
       "</div>"
      ],
      "text/plain": [
       "           bookID  genres.history, historical fiction, biography  \\\n",
       "0         5333265                                            1.0   \n",
       "1         1333909                                            5.0   \n",
       "2         7327624                                            NaN   \n",
       "3         6066819                                            NaN   \n",
       "4          287140                                            NaN   \n",
       "...           ...                                            ...   \n",
       "2360650   3084038                                            7.0   \n",
       "2360651  26168430                                            NaN   \n",
       "2360652   2342551                                            NaN   \n",
       "2360653  22017381                                            NaN   \n",
       "2360654  11419866                                            NaN   \n",
       "\n",
       "         genres.fiction  genres.fantasy, paranormal  \\\n",
       "0                   NaN                         NaN   \n",
       "1                 219.0                         NaN   \n",
       "2                   8.0                        31.0   \n",
       "3                 555.0                         NaN   \n",
       "4                   NaN                         NaN   \n",
       "...                 ...                         ...   \n",
       "2360650             NaN                         NaN   \n",
       "2360651             1.0                         NaN   \n",
       "2360652             NaN                         NaN   \n",
       "2360653             NaN                         NaN   \n",
       "2360654             4.0                         NaN   \n",
       "\n",
       "         genres.mystery, thriller, crime  genres.poetry  genres.romance  \\\n",
       "0                                    NaN            NaN             NaN   \n",
       "1                                    NaN            NaN             NaN   \n",
       "2                                    1.0            1.0             NaN   \n",
       "3                                   10.0            NaN            23.0   \n",
       "4                                    NaN            NaN             NaN   \n",
       "...                                  ...            ...             ...   \n",
       "2360650                              NaN            NaN             NaN   \n",
       "2360651                              4.0            NaN             NaN   \n",
       "2360652                              NaN           14.0             NaN   \n",
       "2360653                              2.0            NaN            13.0   \n",
       "2360654                              NaN            NaN            19.0   \n",
       "\n",
       "         genres.non-fiction  genres.children  genres.young-adult  \\\n",
       "0                       NaN              NaN                 NaN   \n",
       "1                       NaN              NaN                 NaN   \n",
       "2                       NaN              NaN                 NaN   \n",
       "3                       NaN              NaN                 NaN   \n",
       "4                       3.0              NaN                 NaN   \n",
       "...                     ...              ...                 ...   \n",
       "2360650                 5.0              NaN                 NaN   \n",
       "2360651                 NaN              1.0                 NaN   \n",
       "2360652                 1.0              7.0                 1.0   \n",
       "2360653                 NaN              NaN                 NaN   \n",
       "2360654                 NaN              NaN                 NaN   \n",
       "\n",
       "         genres.comics, graphic  \n",
       "0                           NaN  \n",
       "1                           NaN  \n",
       "2                           NaN  \n",
       "3                           NaN  \n",
       "4                           NaN  \n",
       "...                         ...  \n",
       "2360650                     NaN  \n",
       "2360651                     NaN  \n",
       "2360652                     NaN  \n",
       "2360653                     NaN  \n",
       "2360654                     NaN  \n",
       "\n",
       "[2360655 rows x 11 columns]"
      ]
     },
     "metadata": {},
     "output_type": "display_data"
    },
    {
     "name": "stdout",
     "output_type": "stream",
     "text": [
      "<class 'pandas.core.frame.DataFrame'>\n",
      "RangeIndex: 2360655 entries, 0 to 2360654\n",
      "Data columns (total 11 columns):\n",
      " #   Column                                         Dtype  \n",
      "---  ------                                         -----  \n",
      " 0   bookID                                         object \n",
      " 1   genres.history, historical fiction, biography  float64\n",
      " 2   genres.fiction                                 float64\n",
      " 3   genres.fantasy, paranormal                     float64\n",
      " 4   genres.mystery, thriller, crime                float64\n",
      " 5   genres.poetry                                  float64\n",
      " 6   genres.romance                                 float64\n",
      " 7   genres.non-fiction                             float64\n",
      " 8   genres.children                                float64\n",
      " 9   genres.young-adult                             float64\n",
      " 10  genres.comics, graphic                         float64\n",
      "dtypes: float64(10), object(1)\n",
      "memory usage: 198.1+ MB\n"
     ]
    }
   ],
   "source": [
    "display(df_Genre)\n",
    "df_Genre.info()"
   ]
  },
  {
   "cell_type": "markdown",
   "metadata": {},
   "source": [
    "#### Remark:\n",
    "For each book was assigned a score for each of the 10 literary genres. The book's genre with the highest score will be recorded in a specific column. For books without genre the code genres.missing will be given. The NaN will be replaced by 0."
   ]
  },
  {
   "cell_type": "code",
   "execution_count": 8,
   "metadata": {},
   "outputs": [
    {
     "data": {
      "text/html": [
       "<div>\n",
       "<style scoped>\n",
       "    .dataframe tbody tr th:only-of-type {\n",
       "        vertical-align: middle;\n",
       "    }\n",
       "\n",
       "    .dataframe tbody tr th {\n",
       "        vertical-align: top;\n",
       "    }\n",
       "\n",
       "    .dataframe thead th {\n",
       "        text-align: right;\n",
       "    }\n",
       "</style>\n",
       "<table border=\"1\" class=\"dataframe\">\n",
       "  <thead>\n",
       "    <tr style=\"text-align: right;\">\n",
       "      <th></th>\n",
       "      <th>bookID</th>\n",
       "      <th>genres.history, historical fiction, biography</th>\n",
       "      <th>genres.fiction</th>\n",
       "      <th>genres.fantasy, paranormal</th>\n",
       "      <th>genres.mystery, thriller, crime</th>\n",
       "      <th>genres.poetry</th>\n",
       "      <th>genres.romance</th>\n",
       "      <th>genres.non-fiction</th>\n",
       "      <th>genres.children</th>\n",
       "      <th>genres.young-adult</th>\n",
       "      <th>genres.comics, graphic</th>\n",
       "      <th>main_genre</th>\n",
       "    </tr>\n",
       "  </thead>\n",
       "  <tbody>\n",
       "    <tr>\n",
       "      <th>0</th>\n",
       "      <td>5333265</td>\n",
       "      <td>1.0</td>\n",
       "      <td>0.0</td>\n",
       "      <td>0.0</td>\n",
       "      <td>0.0</td>\n",
       "      <td>0.0</td>\n",
       "      <td>0.0</td>\n",
       "      <td>0.0</td>\n",
       "      <td>0.0</td>\n",
       "      <td>0.0</td>\n",
       "      <td>0.0</td>\n",
       "      <td>genres.history, historical fiction, biography</td>\n",
       "    </tr>\n",
       "    <tr>\n",
       "      <th>1</th>\n",
       "      <td>1333909</td>\n",
       "      <td>5.0</td>\n",
       "      <td>219.0</td>\n",
       "      <td>0.0</td>\n",
       "      <td>0.0</td>\n",
       "      <td>0.0</td>\n",
       "      <td>0.0</td>\n",
       "      <td>0.0</td>\n",
       "      <td>0.0</td>\n",
       "      <td>0.0</td>\n",
       "      <td>0.0</td>\n",
       "      <td>genres.fiction</td>\n",
       "    </tr>\n",
       "    <tr>\n",
       "      <th>2</th>\n",
       "      <td>7327624</td>\n",
       "      <td>0.0</td>\n",
       "      <td>8.0</td>\n",
       "      <td>31.0</td>\n",
       "      <td>1.0</td>\n",
       "      <td>1.0</td>\n",
       "      <td>0.0</td>\n",
       "      <td>0.0</td>\n",
       "      <td>0.0</td>\n",
       "      <td>0.0</td>\n",
       "      <td>0.0</td>\n",
       "      <td>genres.fantasy, paranormal</td>\n",
       "    </tr>\n",
       "    <tr>\n",
       "      <th>3</th>\n",
       "      <td>6066819</td>\n",
       "      <td>0.0</td>\n",
       "      <td>555.0</td>\n",
       "      <td>0.0</td>\n",
       "      <td>10.0</td>\n",
       "      <td>0.0</td>\n",
       "      <td>23.0</td>\n",
       "      <td>0.0</td>\n",
       "      <td>0.0</td>\n",
       "      <td>0.0</td>\n",
       "      <td>0.0</td>\n",
       "      <td>genres.fiction</td>\n",
       "    </tr>\n",
       "    <tr>\n",
       "      <th>4</th>\n",
       "      <td>287140</td>\n",
       "      <td>0.0</td>\n",
       "      <td>0.0</td>\n",
       "      <td>0.0</td>\n",
       "      <td>0.0</td>\n",
       "      <td>0.0</td>\n",
       "      <td>0.0</td>\n",
       "      <td>3.0</td>\n",
       "      <td>0.0</td>\n",
       "      <td>0.0</td>\n",
       "      <td>0.0</td>\n",
       "      <td>genres.non-fiction</td>\n",
       "    </tr>\n",
       "    <tr>\n",
       "      <th>...</th>\n",
       "      <td>...</td>\n",
       "      <td>...</td>\n",
       "      <td>...</td>\n",
       "      <td>...</td>\n",
       "      <td>...</td>\n",
       "      <td>...</td>\n",
       "      <td>...</td>\n",
       "      <td>...</td>\n",
       "      <td>...</td>\n",
       "      <td>...</td>\n",
       "      <td>...</td>\n",
       "      <td>...</td>\n",
       "    </tr>\n",
       "    <tr>\n",
       "      <th>2360650</th>\n",
       "      <td>3084038</td>\n",
       "      <td>7.0</td>\n",
       "      <td>0.0</td>\n",
       "      <td>0.0</td>\n",
       "      <td>0.0</td>\n",
       "      <td>0.0</td>\n",
       "      <td>0.0</td>\n",
       "      <td>5.0</td>\n",
       "      <td>0.0</td>\n",
       "      <td>0.0</td>\n",
       "      <td>0.0</td>\n",
       "      <td>genres.history, historical fiction, biography</td>\n",
       "    </tr>\n",
       "    <tr>\n",
       "      <th>2360651</th>\n",
       "      <td>26168430</td>\n",
       "      <td>0.0</td>\n",
       "      <td>1.0</td>\n",
       "      <td>0.0</td>\n",
       "      <td>4.0</td>\n",
       "      <td>0.0</td>\n",
       "      <td>0.0</td>\n",
       "      <td>0.0</td>\n",
       "      <td>1.0</td>\n",
       "      <td>0.0</td>\n",
       "      <td>0.0</td>\n",
       "      <td>genres.mystery, thriller, crime</td>\n",
       "    </tr>\n",
       "    <tr>\n",
       "      <th>2360652</th>\n",
       "      <td>2342551</td>\n",
       "      <td>0.0</td>\n",
       "      <td>0.0</td>\n",
       "      <td>0.0</td>\n",
       "      <td>0.0</td>\n",
       "      <td>14.0</td>\n",
       "      <td>0.0</td>\n",
       "      <td>1.0</td>\n",
       "      <td>7.0</td>\n",
       "      <td>1.0</td>\n",
       "      <td>0.0</td>\n",
       "      <td>genres.poetry</td>\n",
       "    </tr>\n",
       "    <tr>\n",
       "      <th>2360653</th>\n",
       "      <td>22017381</td>\n",
       "      <td>0.0</td>\n",
       "      <td>0.0</td>\n",
       "      <td>0.0</td>\n",
       "      <td>2.0</td>\n",
       "      <td>0.0</td>\n",
       "      <td>13.0</td>\n",
       "      <td>0.0</td>\n",
       "      <td>0.0</td>\n",
       "      <td>0.0</td>\n",
       "      <td>0.0</td>\n",
       "      <td>genres.romance</td>\n",
       "    </tr>\n",
       "    <tr>\n",
       "      <th>2360654</th>\n",
       "      <td>11419866</td>\n",
       "      <td>0.0</td>\n",
       "      <td>4.0</td>\n",
       "      <td>0.0</td>\n",
       "      <td>0.0</td>\n",
       "      <td>0.0</td>\n",
       "      <td>19.0</td>\n",
       "      <td>0.0</td>\n",
       "      <td>0.0</td>\n",
       "      <td>0.0</td>\n",
       "      <td>0.0</td>\n",
       "      <td>genres.romance</td>\n",
       "    </tr>\n",
       "  </tbody>\n",
       "</table>\n",
       "<p>2360655 rows × 12 columns</p>\n",
       "</div>"
      ],
      "text/plain": [
       "           bookID  genres.history, historical fiction, biography  \\\n",
       "0         5333265                                            1.0   \n",
       "1         1333909                                            5.0   \n",
       "2         7327624                                            0.0   \n",
       "3         6066819                                            0.0   \n",
       "4          287140                                            0.0   \n",
       "...           ...                                            ...   \n",
       "2360650   3084038                                            7.0   \n",
       "2360651  26168430                                            0.0   \n",
       "2360652   2342551                                            0.0   \n",
       "2360653  22017381                                            0.0   \n",
       "2360654  11419866                                            0.0   \n",
       "\n",
       "         genres.fiction  genres.fantasy, paranormal  \\\n",
       "0                   0.0                         0.0   \n",
       "1                 219.0                         0.0   \n",
       "2                   8.0                        31.0   \n",
       "3                 555.0                         0.0   \n",
       "4                   0.0                         0.0   \n",
       "...                 ...                         ...   \n",
       "2360650             0.0                         0.0   \n",
       "2360651             1.0                         0.0   \n",
       "2360652             0.0                         0.0   \n",
       "2360653             0.0                         0.0   \n",
       "2360654             4.0                         0.0   \n",
       "\n",
       "         genres.mystery, thriller, crime  genres.poetry  genres.romance  \\\n",
       "0                                    0.0            0.0             0.0   \n",
       "1                                    0.0            0.0             0.0   \n",
       "2                                    1.0            1.0             0.0   \n",
       "3                                   10.0            0.0            23.0   \n",
       "4                                    0.0            0.0             0.0   \n",
       "...                                  ...            ...             ...   \n",
       "2360650                              0.0            0.0             0.0   \n",
       "2360651                              4.0            0.0             0.0   \n",
       "2360652                              0.0           14.0             0.0   \n",
       "2360653                              2.0            0.0            13.0   \n",
       "2360654                              0.0            0.0            19.0   \n",
       "\n",
       "         genres.non-fiction  genres.children  genres.young-adult  \\\n",
       "0                       0.0              0.0                 0.0   \n",
       "1                       0.0              0.0                 0.0   \n",
       "2                       0.0              0.0                 0.0   \n",
       "3                       0.0              0.0                 0.0   \n",
       "4                       3.0              0.0                 0.0   \n",
       "...                     ...              ...                 ...   \n",
       "2360650                 5.0              0.0                 0.0   \n",
       "2360651                 0.0              1.0                 0.0   \n",
       "2360652                 1.0              7.0                 1.0   \n",
       "2360653                 0.0              0.0                 0.0   \n",
       "2360654                 0.0              0.0                 0.0   \n",
       "\n",
       "         genres.comics, graphic                                     main_genre  \n",
       "0                           0.0  genres.history, historical fiction, biography  \n",
       "1                           0.0                                 genres.fiction  \n",
       "2                           0.0                     genres.fantasy, paranormal  \n",
       "3                           0.0                                 genres.fiction  \n",
       "4                           0.0                             genres.non-fiction  \n",
       "...                         ...                                            ...  \n",
       "2360650                     0.0  genres.history, historical fiction, biography  \n",
       "2360651                     0.0                genres.mystery, thriller, crime  \n",
       "2360652                     0.0                                  genres.poetry  \n",
       "2360653                     0.0                                 genres.romance  \n",
       "2360654                     0.0                                 genres.romance  \n",
       "\n",
       "[2360655 rows x 12 columns]"
      ]
     },
     "metadata": {},
     "output_type": "display_data"
    },
    {
     "name": "stdout",
     "output_type": "stream",
     "text": [
      "<class 'pandas.core.frame.DataFrame'>\n",
      "RangeIndex: 2360655 entries, 0 to 2360654\n",
      "Data columns (total 12 columns):\n",
      " #   Column                                         Dtype  \n",
      "---  ------                                         -----  \n",
      " 0   bookID                                         object \n",
      " 1   genres.history, historical fiction, biography  float64\n",
      " 2   genres.fiction                                 float64\n",
      " 3   genres.fantasy, paranormal                     float64\n",
      " 4   genres.mystery, thriller, crime                float64\n",
      " 5   genres.poetry                                  float64\n",
      " 6   genres.romance                                 float64\n",
      " 7   genres.non-fiction                             float64\n",
      " 8   genres.children                                float64\n",
      " 9   genres.young-adult                             float64\n",
      " 10  genres.comics, graphic                         float64\n",
      " 11  main_genre                                     object \n",
      "dtypes: float64(10), object(2)\n",
      "memory usage: 216.1+ MB\n"
     ]
    }
   ],
   "source": [
    "# Replace NaN with 0 in the dataframe Genre\n",
    "df_Genre= df_Genre.fillna(0)\n",
    "# Define a function to get the title of the column with the highest note\n",
    "def get_highest_note_column(row):\n",
    "    max_note = row[['genres.history, historical fiction, biography', 'genres.fiction', 'genres.fantasy, paranormal',\n",
    "                    'genres.mystery, thriller, crime', 'genres.poetry', 'genres.romance', 'genres.non-fiction',\n",
    "                    'genres.children', 'genres.young-adult', 'genres.comics, graphic']].max()\n",
    "    return row.index[row == max_note][0]\n",
    "# Add a new column 'book_genre' to the dataframe\n",
    "df_Genre['main_genre'] = df_Genre.apply(get_highest_note_column, axis=1)\n",
    "# Replace 0 with 'genres.missing' in the 'book_genre' column\n",
    "df_Genre['main_genre'] = df_Genre['main_genre'].replace(0, 'genres.missing')\n",
    "# Look at the updated dataframe\n",
    "display(df_Genre)\n",
    "df_Genre.info()"
   ]
  },
  {
   "cell_type": "code",
   "execution_count": 9,
   "metadata": {},
   "outputs": [],
   "source": [
    "# Now we're going to include the data relating to book's genres in the books dataset.\n",
    "\n",
    "# Convert the bookID column in dataframe Genre from object to int64\n",
    "df_Genre['bookID'] = df_Genre['bookID'].astype('int64')\n",
    "# Merge both DataFrames based on the book ID\n",
    "df_Books = pd.merge(df_Books, df_Genre, left_on='bookID', right_on='bookID', how='left')"
   ]
  },
  {
   "cell_type": "code",
   "execution_count": 10,
   "metadata": {},
   "outputs": [
    {
     "name": "stdout",
     "output_type": "stream",
     "text": [
      "<class 'pandas.core.frame.DataFrame'>\n",
      "Int64Index: 14485 entries, 0 to 14484\n",
      "Data columns (total 23 columns):\n",
      " #   Column                                         Non-Null Count  Dtype  \n",
      "---  ------                                         --------------  -----  \n",
      " 0   bookID                                         14485 non-null  int64  \n",
      " 1   title                                          14485 non-null  object \n",
      " 2   authors                                        14485 non-null  object \n",
      " 3   average_rating                                 14485 non-null  float64\n",
      " 4   isbn                                           14485 non-null  object \n",
      " 5   isbn13                                         14485 non-null  object \n",
      " 6   language_code                                  14485 non-null  object \n",
      " 7   num_pages                                      14485 non-null  int64  \n",
      " 8   ratings_count                                  14485 non-null  int64  \n",
      " 9   text_reviews_count                             14485 non-null  int64  \n",
      " 10  publication_date                               14485 non-null  object \n",
      " 11  publisher                                      14485 non-null  object \n",
      " 12  genres.history, historical fiction, biography  12664 non-null  float64\n",
      " 13  genres.fiction                                 12664 non-null  float64\n",
      " 14  genres.fantasy, paranormal                     12664 non-null  float64\n",
      " 15  genres.mystery, thriller, crime                12664 non-null  float64\n",
      " 16  genres.poetry                                  12664 non-null  float64\n",
      " 17  genres.romance                                 12664 non-null  float64\n",
      " 18  genres.non-fiction                             12664 non-null  float64\n",
      " 19  genres.children                                12664 non-null  float64\n",
      " 20  genres.young-adult                             12664 non-null  float64\n",
      " 21  genres.comics, graphic                         12664 non-null  float64\n",
      " 22  main_genre                                     12664 non-null  object \n",
      "dtypes: float64(11), int64(4), object(8)\n",
      "memory usage: 2.7+ MB\n"
     ]
    }
   ],
   "source": [
    "# check the final result of the books dataframe after adding book's genre.\n",
    "df_Books.info()"
   ]
  },
  {
   "cell_type": "markdown",
   "metadata": {},
   "source": [
    "#### Remarks :\n",
    "In the books dataframe there 14 485 books. Only 12664 books have a book's genre. The remaining 1821 books don't have one. \n",
    "We will replace the NaN of these 1821 books with the number 0.\n",
    "\n",
    "How to explain the absence of this information, there are two possibilities. Either these books are new and readers have not had time to read or categorise them. Or these books have simply never been read. This information will be confirmed by the book's publication date.\n",
    "\n",
    "For the rest of the project, we are going to replace the 'NaN' of these 1824 books with the number zero. We will still be able to find these books by summing the scores of the 10 columns representing the book genres. Or by selecting the 'main_genre' column if there is no result. "
   ]
  },
  {
   "cell_type": "markdown",
   "metadata": {},
   "source": [
    "### Step 3 - Calculate the seniority of the books\n",
    "From the Publication date until today."
   ]
  },
  {
   "cell_type": "code",
   "execution_count": 11,
   "metadata": {},
   "outputs": [],
   "source": [
    "from datetime import datetime\n",
    "\n",
    "# Check if column publication_date is correct \n",
    "for index, row in df_Books.iterrows():\n",
    "    try:\n",
    "        date_obj = datetime.strptime(row['publication_date'], '%m/%d/%Y')\n",
    "    except ValueError as e:\n",
    "        print(f\"Error in row {index}: {e}\")\n",
    "        print(\"Row details:\", row)"
   ]
  },
  {
   "cell_type": "code",
   "execution_count": 12,
   "metadata": {},
   "outputs": [],
   "source": [
    "# Convert 'publication_date' to datetime with US format\n",
    "df_Books['publication_date'] = pd.to_datetime(df_Books['publication_date'], format='%m/%d/%Y')"
   ]
  },
  {
   "cell_type": "code",
   "execution_count": 13,
   "metadata": {},
   "outputs": [],
   "source": [
    "# Calculate the number of months from the Publication date until today\n",
    "today = datetime.today()\n",
    "df_Books['Months_Until_Today'] = (today.year - df_Books['publication_date'].dt.year)*12+(today.month - df_Books['publication_date'].dt.month)"
   ]
  },
  {
   "cell_type": "code",
   "execution_count": 14,
   "metadata": {},
   "outputs": [
    {
     "name": "stdout",
     "output_type": "stream",
     "text": [
      "<class 'pandas.core.frame.DataFrame'>\n",
      "Int64Index: 14485 entries, 0 to 14484\n",
      "Data columns (total 24 columns):\n",
      " #   Column                                         Non-Null Count  Dtype         \n",
      "---  ------                                         --------------  -----         \n",
      " 0   bookID                                         14485 non-null  int64         \n",
      " 1   title                                          14485 non-null  object        \n",
      " 2   authors                                        14485 non-null  object        \n",
      " 3   average_rating                                 14485 non-null  float64       \n",
      " 4   isbn                                           14485 non-null  object        \n",
      " 5   isbn13                                         14485 non-null  object        \n",
      " 6   language_code                                  14485 non-null  object        \n",
      " 7   num_pages                                      14485 non-null  int64         \n",
      " 8   ratings_count                                  14485 non-null  int64         \n",
      " 9   text_reviews_count                             14485 non-null  int64         \n",
      " 10  publication_date                               14485 non-null  datetime64[ns]\n",
      " 11  publisher                                      14485 non-null  object        \n",
      " 12  genres.history, historical fiction, biography  12664 non-null  float64       \n",
      " 13  genres.fiction                                 12664 non-null  float64       \n",
      " 14  genres.fantasy, paranormal                     12664 non-null  float64       \n",
      " 15  genres.mystery, thriller, crime                12664 non-null  float64       \n",
      " 16  genres.poetry                                  12664 non-null  float64       \n",
      " 17  genres.romance                                 12664 non-null  float64       \n",
      " 18  genres.non-fiction                             12664 non-null  float64       \n",
      " 19  genres.children                                12664 non-null  float64       \n",
      " 20  genres.young-adult                             12664 non-null  float64       \n",
      " 21  genres.comics, graphic                         12664 non-null  float64       \n",
      " 22  main_genre                                     12664 non-null  object        \n",
      " 23  Months_Until_Today                             14485 non-null  int64         \n",
      "dtypes: datetime64[ns](1), float64(11), int64(5), object(7)\n",
      "memory usage: 2.8+ MB\n"
     ]
    }
   ],
   "source": [
    "df_Books.info()"
   ]
  },
  {
   "cell_type": "markdown",
   "metadata": {},
   "source": [
    "### Step 4 : Book's language"
   ]
  },
  {
   "cell_type": "code",
   "execution_count": 15,
   "metadata": {},
   "outputs": [
    {
     "data": {
      "text/plain": [
       "eng      11276\n",
       "en-US     1789\n",
       "en-GB      377\n",
       "spa        288\n",
       "fre        255\n",
       "ger        186\n",
       "ita         82\n",
       "jpn         64\n",
       "por         25\n",
       "en-CA       20\n",
       "mul         19\n",
       "zho         15\n",
       "nl          13\n",
       "grc         11\n",
       "swe          9\n",
       "pol          7\n",
       "dan          7\n",
       "tur          5\n",
       "lat          3\n",
       "rus          3\n",
       "gre          3\n",
       "enm          3\n",
       "hin          2\n",
       "srp          2\n",
       "ind          2\n",
       "ara          2\n",
       "cat          2\n",
       "cze          1\n",
       "urd          1\n",
       "est          1\n",
       "rum          1\n",
       "tam          1\n",
       "wel          1\n",
       "fin          1\n",
       "kor          1\n",
       "mar          1\n",
       "ale          1\n",
       "gla          1\n",
       "nor          1\n",
       "glg          1\n",
       "msa          1\n",
       "nob          1\n",
       "Name: language_code, dtype: int64"
      ]
     },
     "execution_count": 15,
     "metadata": {},
     "output_type": "execute_result"
    }
   ],
   "source": [
    "df_Books['language_code'].value_counts()"
   ]
  },
  {
   "cell_type": "markdown",
   "metadata": {},
   "source": [
    "#### Remarks : \n",
    "There are miscellaneous languages. But english is the most representative as Good reads is a US web site.\n",
    "We are going to group English-language books under a single code eng."
   ]
  },
  {
   "cell_type": "code",
   "execution_count": 16,
   "metadata": {},
   "outputs": [],
   "source": [
    "df_Books['language_code'].replace(['en-CA', 'en-GB', 'en-US', 'enm'],'eng', inplace=True)"
   ]
  },
  {
   "cell_type": "markdown",
   "metadata": {},
   "source": [
    "### Step 5 : Work on the authors\n",
    "The authors also have a rating which we will retrieve and add to the books dataset.\n",
    "In the authors column of the Books dataset, some books have several names. The first corresponds to the writer (e.g. Harry Potter: 'J.K. Rowling/Mary GrandPrÃ©'). The other names may be illustrators (in the case of Mary GrandPrÃ©), translators or co-authors. \n",
    "Unfortunately, this is information is not available. For the rest of the project, we will therefore keep only the first name that corresponds to the author or one of the authors. This decision was validated after testing a few books.\n",
    "Information on the authors is available on the following site: https://datarepo.eng.ucsd.edu/mcauley_group/gdrive/goodreads/byGenre/"
   ]
  },
  {
   "cell_type": "code",
   "execution_count": 17,
   "metadata": {},
   "outputs": [],
   "source": [
    "# Split the author column to keep only the name of the writer\n",
    "df_Books[['authors','co-authors']] = df_Books['authors'].str.split(pat='/', n=1, expand=True)"
   ]
  },
  {
   "cell_type": "code",
   "execution_count": 18,
   "metadata": {},
   "outputs": [],
   "source": [
    "# Function to load the gz file and transform into JSON file \n",
    "def load_data(url):\n",
    "    response = requests.get(url)\n",
    "    with gzip.GzipFile(fileobj=BytesIO(response.content), mode='rb') as fin:\n",
    "        data = [json.loads(line.decode('utf-8')) for line in fin]\n",
    "    return data\n",
    "\n",
    "# Assuming the function is defined\n",
    "URL = 'https://datarepo.eng.ucsd.edu/mcauley_group/gdrive/goodreads/'\n",
    "books = load_data(os.path.join(URL, 'goodreads_book_authors.json.gz'))"
   ]
  },
  {
   "cell_type": "code",
   "execution_count": 19,
   "metadata": {},
   "outputs": [],
   "source": [
    "# Transform the nested JSON data structure books into a dataframe called df_Genre\n",
    "df_Authors = pd.json_normalize(books)"
   ]
  },
  {
   "cell_type": "code",
   "execution_count": 20,
   "metadata": {},
   "outputs": [
    {
     "name": "stdout",
     "output_type": "stream",
     "text": [
      "<class 'pandas.core.frame.DataFrame'>\n",
      "RangeIndex: 829529 entries, 0 to 829528\n",
      "Data columns (total 5 columns):\n",
      " #   Column              Non-Null Count   Dtype \n",
      "---  ------              --------------   ----- \n",
      " 0   average_rating      829529 non-null  object\n",
      " 1   author_id           829529 non-null  object\n",
      " 2   text_reviews_count  829529 non-null  object\n",
      " 3   name                829529 non-null  object\n",
      " 4   ratings_count       829529 non-null  object\n",
      "dtypes: object(5)\n",
      "memory usage: 31.6+ MB\n"
     ]
    }
   ],
   "source": [
    "# A look at the dataframe\n",
    "df_Authors.info()"
   ]
  },
  {
   "cell_type": "code",
   "execution_count": 21,
   "metadata": {},
   "outputs": [],
   "source": [
    "# Create a mapping dictionnary containing only the columns name and average_rating\n",
    "auteur_map = dict(zip(df_Authors['name'], df_Authors['average_rating']))\n",
    "\n",
    "# Adding Authors rating to df-Books\n",
    "df_Books['author_rating'] = df_Books['authors'].map(auteur_map)\n",
    "\n",
    "# For the authors not in the csv file, we give a note of zero.\n",
    "df_Books['author_rating'] = df_Books['author_rating'].fillna(0)"
   ]
  },
  {
   "cell_type": "code",
   "execution_count": 22,
   "metadata": {},
   "outputs": [
    {
     "name": "stdout",
     "output_type": "stream",
     "text": [
      "<class 'pandas.core.frame.DataFrame'>\n",
      "Int64Index: 14485 entries, 0 to 14484\n",
      "Data columns (total 26 columns):\n",
      " #   Column                                         Non-Null Count  Dtype         \n",
      "---  ------                                         --------------  -----         \n",
      " 0   bookID                                         14485 non-null  int64         \n",
      " 1   title                                          14485 non-null  object        \n",
      " 2   authors                                        14485 non-null  object        \n",
      " 3   average_rating                                 14485 non-null  float64       \n",
      " 4   isbn                                           14485 non-null  object        \n",
      " 5   isbn13                                         14485 non-null  object        \n",
      " 6   language_code                                  14485 non-null  object        \n",
      " 7   num_pages                                      14485 non-null  int64         \n",
      " 8   ratings_count                                  14485 non-null  int64         \n",
      " 9   text_reviews_count                             14485 non-null  int64         \n",
      " 10  publication_date                               14485 non-null  datetime64[ns]\n",
      " 11  publisher                                      14485 non-null  object        \n",
      " 12  genres.history, historical fiction, biography  12664 non-null  float64       \n",
      " 13  genres.fiction                                 12664 non-null  float64       \n",
      " 14  genres.fantasy, paranormal                     12664 non-null  float64       \n",
      " 15  genres.mystery, thriller, crime                12664 non-null  float64       \n",
      " 16  genres.poetry                                  12664 non-null  float64       \n",
      " 17  genres.romance                                 12664 non-null  float64       \n",
      " 18  genres.non-fiction                             12664 non-null  float64       \n",
      " 19  genres.children                                12664 non-null  float64       \n",
      " 20  genres.young-adult                             12664 non-null  float64       \n",
      " 21  genres.comics, graphic                         12664 non-null  float64       \n",
      " 22  main_genre                                     12664 non-null  object        \n",
      " 23  Months_Until_Today                             14485 non-null  int64         \n",
      " 24  co-authors                                     4564 non-null   object        \n",
      " 25  author_rating                                  14485 non-null  object        \n",
      "dtypes: datetime64[ns](1), float64(11), int64(5), object(9)\n",
      "memory usage: 3.0+ MB\n"
     ]
    }
   ],
   "source": [
    "df_Books.info()"
   ]
  },
  {
   "cell_type": "code",
   "execution_count": 23,
   "metadata": {},
   "outputs": [],
   "source": [
    "# change Dtype of author rating\n",
    "df_Books['author_rating'] = df_Books['author_rating'].astype('float64')"
   ]
  },
  {
   "cell_type": "code",
   "execution_count": 24,
   "metadata": {},
   "outputs": [
    {
     "name": "stdout",
     "output_type": "stream",
     "text": [
      "0\n"
     ]
    }
   ],
   "source": [
    "# check if there is NaN in the column author rating\n",
    "Has_Nan = df_Books['author_rating'].isnull().sum()\n",
    "print(Has_Nan)"
   ]
  },
  {
   "cell_type": "markdown",
   "metadata": {},
   "source": [
    "### Step 6 : Adding format of the books\n",
    "We add the format of the book (paper, audio,...) from the the file 'goodreads_books.json.gz' which is located on the web site : https://datarepo.eng.ucsd.edu/mcauley_group/gdrive/goodreads/\n",
    "\n",
    "As the file is large (1.9 GB), it was uploaded and converted into an easier-to-load csv file separately containing only the prinicpal information needed : bookID + Format + isebook. "
   ]
  },
  {
   "cell_type": "code",
   "execution_count": 25,
   "metadata": {},
   "outputs": [
    {
     "name": "stdout",
     "output_type": "stream",
     "text": [
      "<class 'pandas.core.frame.DataFrame'>\n",
      "RangeIndex: 2360655 entries, 0 to 2360654\n",
      "Data columns (total 3 columns):\n",
      " #   Column    Dtype \n",
      "---  ------    ----- \n",
      " 0   book_id   int64 \n",
      " 1   format    object\n",
      " 2   is_ebook  object\n",
      "dtypes: int64(1), object(2)\n",
      "memory usage: 54.0+ MB\n"
     ]
    },
    {
     "name": "stderr",
     "output_type": "stream",
     "text": [
      "C:\\Users\\gunon\\AppData\\Local\\Temp\\ipykernel_13884\\656372187.py:2: DtypeWarning: Columns (2) have mixed types. Specify dtype option on import or set low_memory=False.\n",
      "  df_BooksFormat = pd.read_csv(r\"C:\\Users\\gunon\\Documents\\bootcamp-main\\3-projects\\ML_Book_Valuations\\datasets\\BooksFormat.csv\", sep=\",\")\n"
     ]
    }
   ],
   "source": [
    "# Download the Book's format csv file\n",
    "df_BooksFormat = pd.read_csv(r\"C:\\Users\\gunon\\Documents\\bootcamp-main\\3-projects\\ML_Book_Valuations\\datasets\\BooksFormat.csv\", sep=\",\")\n",
    "# What is inside the file\n",
    "df_BooksFormat.info()"
   ]
  },
  {
   "cell_type": "code",
   "execution_count": 26,
   "metadata": {},
   "outputs": [],
   "source": [
    "# solve the alert message above\n",
    "df_BooksFormat['format'] = df_BooksFormat['format'].astype (object)"
   ]
  },
  {
   "cell_type": "code",
   "execution_count": 27,
   "metadata": {},
   "outputs": [
    {
     "name": "stdout",
     "output_type": "stream",
     "text": [
      "<class 'pandas.core.frame.DataFrame'>\n",
      "RangeIndex: 2360655 entries, 0 to 2360654\n",
      "Data columns (total 3 columns):\n",
      " #   Column    Dtype \n",
      "---  ------    ----- \n",
      " 0   book_id   int64 \n",
      " 1   format    object\n",
      " 2   is_ebook  object\n",
      "dtypes: int64(1), object(2)\n",
      "memory usage: 54.0+ MB\n"
     ]
    }
   ],
   "source": [
    "df_BooksFormat.info()"
   ]
  },
  {
   "cell_type": "code",
   "execution_count": 28,
   "metadata": {},
   "outputs": [],
   "source": [
    "# Create a mapping dictionary containing only BookID and Format from the file BooksList.csv\n",
    "book_format = dict(zip(df_BooksFormat['book_id'], df_BooksFormat['format']))\n",
    "\n",
    "# Add format to the Books dataframe using the map function\n",
    "df_Books['book_format'] = df_Books['bookID'].map(book_format)\n",
    "\n",
    "# Group book's format into two families: audio / books\n",
    "df_Books['book_format'] = df_Books['book_format'].fillna('Unknown Binding')\n",
    "df_Books['book_format'] = df_Books.apply(lambda row: 'audio' if 'audio' in row['publisher'].lower() and\n",
    "                        row['book_format'] == 'Unknown Binding' else row['book_format'], axis=1)\n",
    "df_Books['book_format'] = df_Books['book_format'].replace(['Audio', 'Audio CD', 'audio Cassette', 'Audio Cassette'\n",
    "                        ,'Audiobook', 'MP3 CD'], 'audio')\n",
    "df_Books['book_format'] = df_Books['book_format'].replace(['Unknown Binding'], 'book')\n",
    "df_Books['book_format'] = df_Books['book_format'].apply(lambda x: 'book' if x != 'audio' else x)\n",
    "\n",
    "# get_dummies tranforms categorical data to numbers 0=audio / 1=book\n",
    "df_Books[\"audio 0 book 1\"] = pd.get_dummies(df_Books.book_format, drop_first=True).values"
   ]
  },
  {
   "cell_type": "code",
   "execution_count": 29,
   "metadata": {},
   "outputs": [
    {
     "name": "stdout",
     "output_type": "stream",
     "text": [
      "<class 'pandas.core.frame.DataFrame'>\n",
      "Int64Index: 14485 entries, 0 to 14484\n",
      "Data columns (total 28 columns):\n",
      " #   Column                                         Non-Null Count  Dtype         \n",
      "---  ------                                         --------------  -----         \n",
      " 0   bookID                                         14485 non-null  int64         \n",
      " 1   title                                          14485 non-null  object        \n",
      " 2   authors                                        14485 non-null  object        \n",
      " 3   average_rating                                 14485 non-null  float64       \n",
      " 4   isbn                                           14485 non-null  object        \n",
      " 5   isbn13                                         14485 non-null  object        \n",
      " 6   language_code                                  14485 non-null  object        \n",
      " 7   num_pages                                      14485 non-null  int64         \n",
      " 8   ratings_count                                  14485 non-null  int64         \n",
      " 9   text_reviews_count                             14485 non-null  int64         \n",
      " 10  publication_date                               14485 non-null  datetime64[ns]\n",
      " 11  publisher                                      14485 non-null  object        \n",
      " 12  genres.history, historical fiction, biography  12664 non-null  float64       \n",
      " 13  genres.fiction                                 12664 non-null  float64       \n",
      " 14  genres.fantasy, paranormal                     12664 non-null  float64       \n",
      " 15  genres.mystery, thriller, crime                12664 non-null  float64       \n",
      " 16  genres.poetry                                  12664 non-null  float64       \n",
      " 17  genres.romance                                 12664 non-null  float64       \n",
      " 18  genres.non-fiction                             12664 non-null  float64       \n",
      " 19  genres.children                                12664 non-null  float64       \n",
      " 20  genres.young-adult                             12664 non-null  float64       \n",
      " 21  genres.comics, graphic                         12664 non-null  float64       \n",
      " 22  main_genre                                     12664 non-null  object        \n",
      " 23  Months_Until_Today                             14485 non-null  int64         \n",
      " 24  co-authors                                     4564 non-null   object        \n",
      " 25  author_rating                                  14485 non-null  float64       \n",
      " 26  book_format                                    14485 non-null  object        \n",
      " 27  audio 0 book 1                                 14485 non-null  uint8         \n",
      "dtypes: datetime64[ns](1), float64(12), int64(5), object(9), uint8(1)\n",
      "memory usage: 3.1+ MB\n"
     ]
    }
   ],
   "source": [
    "df_Books.info()"
   ]
  },
  {
   "cell_type": "code",
   "execution_count": 30,
   "metadata": {},
   "outputs": [
    {
     "data": {
      "text/plain": [
       "book     14232\n",
       "audio      253\n",
       "Name: book_format, dtype: int64"
      ]
     },
     "execution_count": 30,
     "metadata": {},
     "output_type": "execute_result"
    }
   ],
   "source": [
    "# check the new columns\n",
    "df_Books['book_format'].value_counts()"
   ]
  },
  {
   "cell_type": "code",
   "execution_count": 31,
   "metadata": {},
   "outputs": [
    {
     "data": {
      "text/plain": [
       "1    14232\n",
       "0      253\n",
       "Name: audio 0 book 1, dtype: int64"
      ]
     },
     "execution_count": 31,
     "metadata": {},
     "output_type": "execute_result"
    }
   ],
   "source": [
    "df_Books['audio 0 book 1'].value_counts()"
   ]
  },
  {
   "cell_type": "code",
   "execution_count": 32,
   "metadata": {},
   "outputs": [],
   "source": [
    "### Step 7 : Save the final file"
   ]
  },
  {
   "cell_type": "code",
   "execution_count": 33,
   "metadata": {},
   "outputs": [],
   "source": [
    "# Saving Books dataframe with all data on github\n",
    "df_Books.to_csv(r\"C:\\Users\\gunon\\Documents\\bootcamp-main\\3-projects\\ML_Book_Valuations\\datasets\\Books_Final.csv\", index=False)"
   ]
  }
 ],
 "metadata": {
  "kernelspec": {
   "display_name": "Python 3 (ipykernel)",
   "language": "python",
   "name": "python3"
  },
  "language_info": {
   "codemirror_mode": {
    "name": "ipython",
    "version": 3
   },
   "file_extension": ".py",
   "mimetype": "text/x-python",
   "name": "python",
   "nbconvert_exporter": "python",
   "pygments_lexer": "ipython3",
   "version": "3.11.5"
  }
 },
 "nbformat": 4,
 "nbformat_minor": 4
}
