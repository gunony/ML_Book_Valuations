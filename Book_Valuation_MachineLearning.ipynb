{
 "cells": [
  {
   "cell_type": "markdown",
   "id": "e9ac5dbf",
   "metadata": {},
   "source": [
    "### PART 2 - ANALYSIS AND MACHINE LEARNING.\n",
    "\n",
    "As explained in the readme file, the aim of the project is to predict the rating that would be given to a book based on a certain amount of input data. This notebook is the second part of the project and it concerns the Machine learning part.\n"
   ]
  },
  {
   "cell_type": "code",
   "execution_count": 24,
   "id": "f62b3c11",
   "metadata": {},
   "outputs": [],
   "source": [
    "import numpy as np\n",
    "import pandas as pd\n",
    "import matplotlib.pyplot as plt\n",
    "import seaborn as sns\n",
    "from sklearn.preprocessing import OneHotEncoder\n"
   ]
  },
  {
   "cell_type": "code",
   "execution_count": 2,
   "id": "8ecbe506",
   "metadata": {},
   "outputs": [],
   "source": [
    "# Download the initial dataset of Books list\n",
    "git_path = 'https://github.com/gunony/ML_Book_Valuations/raw/main/datasets/'\n",
    "url = git_path+'Books_Final.csv'\n",
    "df_Books = pd.read_csv(url,sep=\",\")"
   ]
  },
  {
   "cell_type": "code",
   "execution_count": 5,
   "id": "ece6e701-40e2-4f8f-a055-d5b2ce785784",
   "metadata": {
    "scrolled": true
   },
   "outputs": [
    {
     "name": "stdout",
     "output_type": "stream",
     "text": [
      "<class 'pandas.core.frame.DataFrame'>\n",
      "RangeIndex: 14485 entries, 0 to 14484\n",
      "Data columns (total 28 columns):\n",
      " #   Column                                         Non-Null Count  Dtype  \n",
      "---  ------                                         --------------  -----  \n",
      " 0   bookID                                         14485 non-null  int64  \n",
      " 1   title                                          14485 non-null  object \n",
      " 2   authors                                        14485 non-null  object \n",
      " 3   average_rating                                 14485 non-null  float64\n",
      " 4   isbn                                           14485 non-null  object \n",
      " 5   isbn13                                         14485 non-null  object \n",
      " 6   language_code                                  14485 non-null  object \n",
      " 7   num_pages                                      14485 non-null  int64  \n",
      " 8   ratings_count                                  14485 non-null  int64  \n",
      " 9   text_reviews_count                             14485 non-null  int64  \n",
      " 10  publication_date                               14485 non-null  object \n",
      " 11  publisher                                      14485 non-null  object \n",
      " 12  genres.history, historical fiction, biography  12664 non-null  float64\n",
      " 13  genres.fiction                                 12664 non-null  float64\n",
      " 14  genres.fantasy, paranormal                     12664 non-null  float64\n",
      " 15  genres.mystery, thriller, crime                12664 non-null  float64\n",
      " 16  genres.poetry                                  12664 non-null  float64\n",
      " 17  genres.romance                                 12664 non-null  float64\n",
      " 18  genres.non-fiction                             12664 non-null  float64\n",
      " 19  genres.children                                12664 non-null  float64\n",
      " 20  genres.young-adult                             12664 non-null  float64\n",
      " 21  genres.comics, graphic                         12664 non-null  float64\n",
      " 22  main_genre                                     12664 non-null  object \n",
      " 23  Months_Until_Today                             14485 non-null  int64  \n",
      " 24  co-authors                                     4564 non-null   object \n",
      " 25  author_rating                                  14485 non-null  float64\n",
      " 26  book_format                                    14485 non-null  object \n",
      " 27  audio 0 book 1                                 14485 non-null  int64  \n",
      "dtypes: float64(12), int64(6), object(10)\n",
      "memory usage: 3.1+ MB\n"
     ]
    }
   ],
   "source": [
    "df_Books.info()\n",
    "# 27 variables and 14485 observations. The response variable is 'average_rating' (=Y)."
   ]
  },
  {
   "cell_type": "markdown",
   "id": "681719ab-c72d-4c4c-96c5-4538ee1865c0",
   "metadata": {},
   "source": [
    "We can remove the following useless columns : bookID + title + authors + isbn + isbn13 + co-authors + publisher + main_genre + book_format.\n",
    "And we can simplify the average-rating, which is the rating of the books, by just reducing the value as an intenger. For that we decide to keep the first figure. For example 3.61 is reduced to 3.\n",
    "\n"
   ]
  },
  {
   "cell_type": "code",
   "execution_count": 32,
   "id": "7c705dfc-de80-4d11-a5b3-3ac7da8fec22",
   "metadata": {},
   "outputs": [
    {
     "name": "stdout",
     "output_type": "stream",
     "text": [
      "<class 'pandas.core.frame.DataFrame'>\n",
      "RangeIndex: 14485 entries, 0 to 14484\n",
      "Data columns (total 19 columns):\n",
      " #   Column                                         Non-Null Count  Dtype  \n",
      "---  ------                                         --------------  -----  \n",
      " 0   average_rating                                 14485 non-null  float64\n",
      " 1   language_code                                  14485 non-null  object \n",
      " 2   num_pages                                      14485 non-null  int64  \n",
      " 3   ratings_count                                  14485 non-null  int64  \n",
      " 4   text_reviews_count                             14485 non-null  int64  \n",
      " 5   publication_date                               14485 non-null  object \n",
      " 6   genres.history, historical fiction, biography  12664 non-null  float64\n",
      " 7   genres.fiction                                 12664 non-null  float64\n",
      " 8   genres.fantasy, paranormal                     12664 non-null  float64\n",
      " 9   genres.mystery, thriller, crime                12664 non-null  float64\n",
      " 10  genres.poetry                                  12664 non-null  float64\n",
      " 11  genres.romance                                 12664 non-null  float64\n",
      " 12  genres.non-fiction                             12664 non-null  float64\n",
      " 13  genres.children                                12664 non-null  float64\n",
      " 14  genres.young-adult                             12664 non-null  float64\n",
      " 15  genres.comics, graphic                         12664 non-null  float64\n",
      " 16  Months_Until_Today                             14485 non-null  int64  \n",
      " 17  author_rating                                  14485 non-null  float64\n",
      " 18  audio 0 book 1                                 14485 non-null  int64  \n",
      "dtypes: float64(12), int64(5), object(2)\n",
      "memory usage: 2.1+ MB\n"
     ]
    }
   ],
   "source": [
    "df_Books=df_Books.drop(columns=['bookID','title','authors','isbn','isbn13','co-authors','publisher','main_genre','book_format'])\n",
    "df_Books.info()"
   ]
  },
  {
   "cell_type": "code",
   "execution_count": 31,
   "id": "358915e4-d4b6-4b4e-a7fe-94ed8fca6ead",
   "metadata": {},
   "outputs": [
    {
     "data": {
      "text/plain": [
       "eng    13465\n",
       "spa      288\n",
       "fre      255\n",
       "ger      186\n",
       "ita       82\n",
       "jpn       64\n",
       "por       25\n",
       "mul       19\n",
       "zho       15\n",
       "nl        13\n",
       "grc       11\n",
       "swe        9\n",
       "dan        7\n",
       "pol        7\n",
       "tur        5\n",
       "gre        3\n",
       "rus        3\n",
       "lat        3\n",
       "ind        2\n",
       "srp        2\n",
       "hin        2\n",
       "ara        2\n",
       "cat        2\n",
       "cze        1\n",
       "est        1\n",
       "rum        1\n",
       "urd        1\n",
       "tam        1\n",
       "nor        1\n",
       "fin        1\n",
       "kor        1\n",
       "mar        1\n",
       "ale        1\n",
       "gla        1\n",
       "wel        1\n",
       "glg        1\n",
       "msa        1\n",
       "nob        1\n",
       "Name: language_code, dtype: int64"
      ]
     },
     "execution_count": 31,
     "metadata": {},
     "output_type": "execute_result"
    }
   ],
   "source": [
    "df_Books['language_code'].value_counts()"
   ]
  },
  {
   "cell_type": "markdown",
   "id": "6d298676-8b5d-4808-b558-13ac77918645",
   "metadata": {},
   "source": [
    "We must keep the language code variable, but we have to simplify it as there are a lot of different languages. We are going to create four categories of language : english, spanish, french, german and other. Then we will make one-encoding"
   ]
  },
  {
   "cell_type": "code",
   "execution_count": 34,
   "id": "58352622-14f6-4c45-9fc2-faf0c35e44c7",
   "metadata": {},
   "outputs": [
    {
     "data": {
      "text/plain": [
       "eng    13465\n",
       "oth      291\n",
       "spa      288\n",
       "fre      255\n",
       "ger      186\n",
       "Name: language_code, dtype: int64"
      ]
     },
     "execution_count": 34,
     "metadata": {},
     "output_type": "execute_result"
    }
   ],
   "source": [
    "valid_lang = ['eng', 'fre', 'spa', 'ger'] # the code to keep\n",
    "df_Books['language_code'] = df_Books['language_code'].apply(lambda x: x if x in valid_lang else 'oth') # the modification of the df\n",
    "df_Books['language_code'].value_counts() # checking the result"
   ]
  },
  {
   "cell_type": "code",
   "execution_count": 137,
   "id": "d4e6c5c8-505b-4c88-95ca-b0905a71b783",
   "metadata": {},
   "outputs": [],
   "source": [
    "cat_encoder = OneHotEncoder(sparse_output=False) #initialize the OHE\n",
    "language_encoded = cat_encoder.fit_transform(df_Books[['language_code']]) #transform the language variable into matrix\n",
    "cat_encoder.feature_names_in_ # header columns\n",
    "cat_encoder.get_feature_names_out()\n",
    "df_language =pd.DataFrame(language_encoded,\n",
    "                          columns=cat_encoder.get_feature_names_out(),\n",
    "                          index = df_Books[['language_code']].index) # create df for languages\n",
    "df_Books = pd.concat([df_Books,df_language], axis = 1) # Update df with langugae df"
   ]
  },
  {
   "cell_type": "code",
   "execution_count": 138,
   "id": "37e398e2-9907-49ba-a886-b056dcf33921",
   "metadata": {},
   "outputs": [
    {
     "name": "stdout",
     "output_type": "stream",
     "text": [
      "<class 'pandas.core.frame.DataFrame'>\n",
      "RangeIndex: 14485 entries, 0 to 14484\n",
      "Data columns (total 24 columns):\n",
      " #   Column                                         Non-Null Count  Dtype  \n",
      "---  ------                                         --------------  -----  \n",
      " 0   average_rating                                 14485 non-null  float64\n",
      " 1   language_code                                  14485 non-null  object \n",
      " 2   num_pages                                      14485 non-null  int64  \n",
      " 3   ratings_count                                  14485 non-null  int64  \n",
      " 4   text_reviews_count                             14485 non-null  int64  \n",
      " 5   publication_date                               14485 non-null  object \n",
      " 6   genres.history, historical fiction, biography  12664 non-null  float64\n",
      " 7   genres.fiction                                 12664 non-null  float64\n",
      " 8   genres.fantasy, paranormal                     12664 non-null  float64\n",
      " 9   genres.mystery, thriller, crime                12664 non-null  float64\n",
      " 10  genres.poetry                                  12664 non-null  float64\n",
      " 11  genres.romance                                 12664 non-null  float64\n",
      " 12  genres.non-fiction                             12664 non-null  float64\n",
      " 13  genres.children                                12664 non-null  float64\n",
      " 14  genres.young-adult                             12664 non-null  float64\n",
      " 15  genres.comics, graphic                         12664 non-null  float64\n",
      " 16  Months_Until_Today                             14485 non-null  int64  \n",
      " 17  author_rating                                  14485 non-null  float64\n",
      " 18  audio 0 book 1                                 14485 non-null  int64  \n",
      " 19  language_code_eng                              14485 non-null  float64\n",
      " 20  language_code_fre                              14485 non-null  float64\n",
      " 21  language_code_ger                              14485 non-null  float64\n",
      " 22  language_code_oth                              14485 non-null  float64\n",
      " 23  language_code_spa                              14485 non-null  float64\n",
      "dtypes: float64(17), int64(5), object(2)\n",
      "memory usage: 2.7+ MB\n"
     ]
    }
   ],
   "source": [
    "df_Books.info()"
   ]
  },
  {
   "cell_type": "markdown",
   "id": "e0eb23f9-5cf8-456f-b94f-e547162d59d8",
   "metadata": {},
   "source": [
    "Check if the language code process is correct."
   ]
  },
  {
   "cell_type": "code",
   "execution_count": 188,
   "id": "06512157-084d-4458-a1d3-490fee2fa1d2",
   "metadata": {},
   "outputs": [
    {
     "name": "stdout",
     "output_type": "stream",
     "text": [
      "0 0 0 0 0 MUST BE ALL ZERO\n",
      "COMPTAGE =  14485\n"
     ]
    }
   ],
   "source": [
    "error_eng = error_fre = error_ger = error_spa= error_oth = comptage = 0 #initialisation\n",
    "\n",
    "for index, row in df_Books.iterrows():\n",
    "    comptage +=1 #counting number of rows\n",
    "    if row['language_code'] == 'eng' and row['language_code_eng'] != 1 :\n",
    "        error_eng +=1 \n",
    "    elif row['language_code'] == 'fre' and row['language_code_fre'] != 1 :\n",
    "        error_fre +=1\n",
    "    elif row['language_code'] == 'ger' and row['language_code_ger'] != 1 : \n",
    "        error_ger = +1\n",
    "    elif row['language_code'] == 'spa' and row['language_code_spa'] != 1 : \n",
    "        error_spa = +1\n",
    "    elif row['language_code'] == 'oth' and row['language_code_oth'] != 1 : \n",
    "        error_spa = +1\n",
    "print(error_eng, error_fre, error_ger, error_spa, error_spa, \"MUST BE ALL ZERO\")\n",
    "print(\"COMPTAGE = \",comptage)"
   ]
  },
  {
   "cell_type": "code",
   "execution_count": 153,
   "id": "2272288b-899f-46d5-81e7-3244b5c40e7b",
   "metadata": {},
   "outputs": [
    {
     "data": {
      "text/plain": [
       "average_rating                                                                              996.64\n",
       "language_code                                    frefrefrefrefrefrefrefrefrefrefrefrefrefrefref...\n",
       "num_pages                                                                                    86964\n",
       "ratings_count                                                                               476678\n",
       "text_reviews_count                                                                            9969\n",
       "publication_date                                 1994-04-012002-11-072001-03-312005-05-032005-1...\n",
       "genres.history, historical fiction, biography                                              33656.0\n",
       "genres.fiction                                                                            141909.0\n",
       "genres.fantasy, paranormal                                                                 57446.0\n",
       "genres.mystery, thriller, crime                                                            27559.0\n",
       "genres.poetry                                                                                 77.0\n",
       "genres.romance                                                                             15644.0\n",
       "genres.non-fiction                                                                          5799.0\n",
       "genres.children                                                                            33715.0\n",
       "genres.young-adult                                                                          9622.0\n",
       "genres.comics, graphic                                                                      2225.0\n",
       "Months_Until_Today                                                                           65368\n",
       "author_rating                                                                              1000.61\n",
       "audio 0 book 1                                                                                 255\n",
       "language_code_eng                                                                              0.0\n",
       "language_code_fre                                                                            255.0\n",
       "language_code_ger                                                                              0.0\n",
       "language_code_oth                                                                              0.0\n",
       "language_code_spa                                                                              0.0\n",
       "dtype: object"
      ]
     },
     "execution_count": 153,
     "metadata": {},
     "output_type": "execute_result"
    }
   ],
   "source": [
    "df_Books[df_Books['language_code'].isin([\"eng\"])].sum()"
   ]
  },
  {
   "cell_type": "code",
   "execution_count": 29,
   "id": "ace4aa66-fec1-48e3-afa3-d9855ff60c5e",
   "metadata": {},
   "outputs": [
    {
     "data": {
      "image/png": "[encoded data removed]",
      "text/plain": [
       "<Figure size 640x480 with 1 Axes>"
      ]
     },
     "metadata": {},
     "output_type": "display_data"
    }
   ],
   "source": [
    "# Plotting a histogram\n",
    "df_Books['average_rating'].hist()\n",
    "plt.show()"
   ]
  },
  {
   "cell_type": "code",
   "execution_count": 30,
   "id": "f6ce40d4-1977-4e22-abd5-70137395d144",
   "metadata": {},
   "outputs": [
    {
     "data": {
      "text/plain": [
       "{'whiskers': [<matplotlib.lines.Line2D at 0x204e8aed7d0>,\n",
       "  <matplotlib.lines.Line2D at 0x204e9326c10>],\n",
       " 'caps': [<matplotlib.lines.Line2D at 0x204e9327610>,\n",
       "  <matplotlib.lines.Line2D at 0x204e9327ed0>],\n",
       " 'boxes': [<matplotlib.lines.Line2D at 0x204e9325910>],\n",
       " 'medians': [<matplotlib.lines.Line2D at 0x204e933ca10>],\n",
       " 'fliers': [<matplotlib.lines.Line2D at 0x204e8aff890>],\n",
       " 'means': []}"
      ]
     },
     "execution_count": 30,
     "metadata": {},
     "output_type": "execute_result"
    },
    {
     "data": {
      "image/png": "[encoded data removed]",
      "text/plain": [
       "<Figure size 640x480 with 1 Axes>"
      ]
     },
     "metadata": {},
     "output_type": "display_data"
    }
   ],
   "source": [
    "plt.boxplot(df_Books['average_rating'])"
   ]
  },
  {
   "cell_type": "code",
   "execution_count": null,
   "id": "4f1f90aa-ff62-41e6-bf65-f88b6e4f96a8",
   "metadata": {},
   "outputs": [],
   "source": []
  }
 ],
 "metadata": {
  "kernelspec": {
   "display_name": "Python 3 (ipykernel)",
   "language": "python",
   "name": "python3"
  },
  "language_info": {
   "codemirror_mode": {
    "name": "ipython",
    "version": 3
   },
   "file_extension": ".py",
   "mimetype": "text/x-python",
   "name": "python",
   "nbconvert_exporter": "python",
   "pygments_lexer": "ipython3",
   "version": "3.11.5"
  }
 },
 "nbformat": 4,
 "nbformat_minor": 5
}
